{
  "nbformat": 4,
  "nbformat_minor": 0,
  "metadata": {
    "colab": {
      "name": "Lab_6A_Gokul.ipynb",
      "provenance": [],
      "collapsed_sections": []
    },
    "kernelspec": {
      "name": "python3",
      "display_name": "Python 3"
    }
  },
  "cells": [
    {
      "cell_type": "markdown",
      "metadata": {
        "id": "KD21bxMoLb7Q",
        "colab_type": "text"
      },
      "source": [
        "### NAME : Gokul Nair\n",
        "### UID : 2018120039\n",
        "### Batch : C\n",
        "#### EXP : Lab 6-A"
      ]
    },
    {
      "cell_type": "code",
      "metadata": {
        "id": "-9C2bag_DPuE",
        "colab_type": "code",
        "colab": {}
      },
      "source": [
        "import pandas as pd\n",
        "import numpy as np\n",
        "import scipy as sp\n",
        "import matplotlib.pyplot as plt\n"
      ],
      "execution_count": 1,
      "outputs": []
    },
    {
      "cell_type": "code",
      "metadata": {
        "id": "7J3HJT7xKEuB",
        "colab_type": "code",
        "colab": {
          "base_uri": "https://localhost:8080/",
          "height": 1000
        },
        "outputId": "73a78779-490d-4396-e030-c5cc135a980f"
      },
      "source": [
        "#Install feature selector library using pip\n",
        "#!pip install feature-selector"
      ],
      "execution_count": 3,
      "outputs": [
        {
          "output_type": "stream",
          "text": [
            "Collecting feature-selector\n",
            "  Downloading https://files.pythonhosted.org/packages/7c/d2/5448f8af6d3507f3c455429744c6436fdf3b91d10c75f4857d8e8bb4da1c/feature_selector-1.0.0-py3-none-any.whl\n",
            "Collecting matplotlib==2.1.2\n",
            "\u001b[?25l  Downloading https://files.pythonhosted.org/packages/35/96/6e71a040339d4efc54cf707061e70fd624c9120b48b992f919ba34df9cb1/matplotlib-2.1.2-cp36-cp36m-manylinux1_x86_64.whl (15.0MB)\n",
            "\u001b[K     |████████████████████████████████| 15.0MB 298kB/s \n",
            "\u001b[?25hCollecting pandas==0.23.1\n",
            "\u001b[?25l  Downloading https://files.pythonhosted.org/packages/57/eb/6ab533ea8e35e7dd159af6922ac1123d4565d89f3926ad9a6aa46530978f/pandas-0.23.1-cp36-cp36m-manylinux1_x86_64.whl (11.8MB)\n",
            "\u001b[K     |████████████████████████████████| 11.8MB 37.4MB/s \n",
            "\u001b[?25hCollecting seaborn==0.8.1\n",
            "\u001b[?25l  Downloading https://files.pythonhosted.org/packages/10/01/dd1c7838cde3b69b247aaeb61016e238cafd8188a276e366d36aa6bcdab4/seaborn-0.8.1.tar.gz (178kB)\n",
            "\u001b[K     |████████████████████████████████| 184kB 40.3MB/s \n",
            "\u001b[?25hCollecting lightgbm==2.1.1\n",
            "\u001b[?25l  Downloading https://files.pythonhosted.org/packages/bf/01/45e209af10fd16537df0c5d8a5474c286554c3eaf9ddb0ce04113f1e8506/lightgbm-2.1.1-py2.py3-none-manylinux1_x86_64.whl (711kB)\n",
            "\u001b[K     |████████████████████████████████| 716kB 38.7MB/s \n",
            "\u001b[?25hCollecting numpy==1.14.5\n",
            "\u001b[?25l  Downloading https://files.pythonhosted.org/packages/68/1e/116ad560de97694e2d0c1843a7a0075cc9f49e922454d32f49a80eb6f1f2/numpy-1.14.5-cp36-cp36m-manylinux1_x86_64.whl (12.2MB)\n",
            "\u001b[K     |████████████████████████████████| 12.2MB 185kB/s \n",
            "\u001b[?25hCollecting scikit-learn==0.19.1\n",
            "\u001b[?25l  Downloading https://files.pythonhosted.org/packages/3d/2d/9fbc7baa5f44bc9e88ffb7ed32721b879bfa416573e85031e16f52569bc9/scikit_learn-0.19.1-cp36-cp36m-manylinux1_x86_64.whl (12.4MB)\n",
            "\u001b[K     |████████████████████████████████| 12.4MB 47.5MB/s \n",
            "\u001b[?25hRequirement already satisfied: python-dateutil>=2.1 in /usr/local/lib/python3.6/dist-packages (from matplotlib==2.1.2->feature-selector) (2.8.1)\n",
            "Requirement already satisfied: pytz in /usr/local/lib/python3.6/dist-packages (from matplotlib==2.1.2->feature-selector) (2018.9)\n",
            "Requirement already satisfied: cycler>=0.10 in /usr/local/lib/python3.6/dist-packages (from matplotlib==2.1.2->feature-selector) (0.10.0)\n",
            "Requirement already satisfied: pyparsing!=2.0.4,!=2.1.2,!=2.1.6,>=2.0.1 in /usr/local/lib/python3.6/dist-packages (from matplotlib==2.1.2->feature-selector) (2.4.7)\n",
            "Requirement already satisfied: six>=1.10 in /usr/local/lib/python3.6/dist-packages (from matplotlib==2.1.2->feature-selector) (1.15.0)\n",
            "Requirement already satisfied: scipy in /usr/local/lib/python3.6/dist-packages (from lightgbm==2.1.1->feature-selector) (1.4.1)\n",
            "Building wheels for collected packages: seaborn\n",
            "  Building wheel for seaborn (setup.py) ... \u001b[?25l\u001b[?25hdone\n",
            "  Created wheel for seaborn: filename=seaborn-0.8.1-cp36-none-any.whl size=184834 sha256=5c0084d69c8428a15eac396eb23b82c06f04b5243450ab4edd0b9314cd0e53bc\n",
            "  Stored in directory: /root/.cache/pip/wheels/26/0a/44/53ddd89769e62f7c6691976375b86c6492e7dd20a2d3970e32\n",
            "Successfully built seaborn\n",
            "\u001b[31mERROR: yellowbrick 0.9.1 has requirement scikit-learn>=0.20, but you'll have scikit-learn 0.19.1 which is incompatible.\u001b[0m\n",
            "\u001b[31mERROR: xarray 0.15.1 has requirement numpy>=1.15, but you'll have numpy 1.14.5 which is incompatible.\u001b[0m\n",
            "\u001b[31mERROR: xarray 0.15.1 has requirement pandas>=0.25, but you'll have pandas 0.23.1 which is incompatible.\u001b[0m\n",
            "\u001b[31mERROR: umap-learn 0.4.6 has requirement numpy>=1.17, but you'll have numpy 1.14.5 which is incompatible.\u001b[0m\n",
            "\u001b[31mERROR: umap-learn 0.4.6 has requirement scikit-learn>=0.20, but you'll have scikit-learn 0.19.1 which is incompatible.\u001b[0m\n",
            "\u001b[31mERROR: tifffile 2020.9.3 has requirement numpy>=1.15.1, but you'll have numpy 1.14.5 which is incompatible.\u001b[0m\n",
            "\u001b[31mERROR: tensorflow 2.3.0 has requirement numpy<1.19.0,>=1.16.0, but you'll have numpy 1.14.5 which is incompatible.\u001b[0m\n",
            "\u001b[31mERROR: spacy 2.2.4 has requirement numpy>=1.15.0, but you'll have numpy 1.14.5 which is incompatible.\u001b[0m\n",
            "\u001b[31mERROR: plotnine 0.6.0 has requirement matplotlib>=3.1.1, but you'll have matplotlib 2.1.2 which is incompatible.\u001b[0m\n",
            "\u001b[31mERROR: plotnine 0.6.0 has requirement numpy>=1.16.0, but you'll have numpy 1.14.5 which is incompatible.\u001b[0m\n",
            "\u001b[31mERROR: plotnine 0.6.0 has requirement pandas>=0.25.0, but you'll have pandas 0.23.1 which is incompatible.\u001b[0m\n",
            "\u001b[31mERROR: numba 0.48.0 has requirement numpy>=1.15, but you'll have numpy 1.14.5 which is incompatible.\u001b[0m\n",
            "\u001b[31mERROR: mizani 0.6.0 has requirement matplotlib>=3.1.1, but you'll have matplotlib 2.1.2 which is incompatible.\u001b[0m\n",
            "\u001b[31mERROR: mizani 0.6.0 has requirement pandas>=0.25.0, but you'll have pandas 0.23.1 which is incompatible.\u001b[0m\n",
            "\u001b[31mERROR: imgaug 0.2.9 has requirement numpy>=1.15.0, but you'll have numpy 1.14.5 which is incompatible.\u001b[0m\n",
            "\u001b[31mERROR: imbalanced-learn 0.4.3 has requirement scikit-learn>=0.20, but you'll have scikit-learn 0.19.1 which is incompatible.\u001b[0m\n",
            "\u001b[31mERROR: google-colab 1.0.0 has requirement pandas~=1.0.0; python_version >= \"3.0\", but you'll have pandas 0.23.1 which is incompatible.\u001b[0m\n",
            "\u001b[31mERROR: fbprophet 0.7.1 has requirement numpy>=1.15.4, but you'll have numpy 1.14.5 which is incompatible.\u001b[0m\n",
            "\u001b[31mERROR: fbprophet 0.7.1 has requirement pandas>=1.0.4, but you'll have pandas 0.23.1 which is incompatible.\u001b[0m\n",
            "\u001b[31mERROR: fastai 1.0.61 has requirement numpy>=1.15, but you'll have numpy 1.14.5 which is incompatible.\u001b[0m\n",
            "\u001b[31mERROR: datascience 0.10.6 has requirement folium==0.2.1, but you'll have folium 0.8.3 which is incompatible.\u001b[0m\n",
            "\u001b[31mERROR: cvxpy 1.0.31 has requirement numpy>=1.15, but you'll have numpy 1.14.5 which is incompatible.\u001b[0m\n",
            "\u001b[31mERROR: blis 0.4.1 has requirement numpy>=1.15.0, but you'll have numpy 1.14.5 which is incompatible.\u001b[0m\n",
            "\u001b[31mERROR: astropy 4.0.1.post1 has requirement numpy>=1.16, but you'll have numpy 1.14.5 which is incompatible.\u001b[0m\n",
            "\u001b[31mERROR: albumentations 0.1.12 has requirement imgaug<0.2.7,>=0.2.5, but you'll have imgaug 0.2.9 which is incompatible.\u001b[0m\n",
            "Installing collected packages: numpy, matplotlib, pandas, seaborn, scikit-learn, lightgbm, feature-selector\n",
            "  Found existing installation: numpy 1.18.5\n",
            "    Uninstalling numpy-1.18.5:\n",
            "      Successfully uninstalled numpy-1.18.5\n",
            "  Found existing installation: matplotlib 3.2.2\n",
            "    Uninstalling matplotlib-3.2.2:\n",
            "      Successfully uninstalled matplotlib-3.2.2\n",
            "  Found existing installation: pandas 1.0.5\n",
            "    Uninstalling pandas-1.0.5:\n",
            "      Successfully uninstalled pandas-1.0.5\n",
            "  Found existing installation: seaborn 0.10.1\n",
            "    Uninstalling seaborn-0.10.1:\n",
            "      Successfully uninstalled seaborn-0.10.1\n",
            "  Found existing installation: scikit-learn 0.22.2.post1\n",
            "    Uninstalling scikit-learn-0.22.2.post1:\n",
            "      Successfully uninstalled scikit-learn-0.22.2.post1\n",
            "  Found existing installation: lightgbm 2.2.3\n",
            "    Uninstalling lightgbm-2.2.3:\n",
            "      Successfully uninstalled lightgbm-2.2.3\n",
            "Successfully installed feature-selector-1.0.0 lightgbm-2.1.1 matplotlib-2.1.2 numpy-1.14.5 pandas-0.23.1 scikit-learn-0.19.1 seaborn-0.8.1\n"
          ],
          "name": "stdout"
        },
        {
          "output_type": "display_data",
          "data": {
            "application/vnd.colab-display-data+json": {
              "pip_warning": {
                "packages": [
                  "matplotlib",
                  "mpl_toolkits",
                  "numpy",
                  "pandas"
                ]
              }
            }
          },
          "metadata": {
            "tags": []
          }
        }
      ]
    },
    {
      "cell_type": "code",
      "metadata": {
        "id": "SWMCAHWfKf8H",
        "colab_type": "code",
        "colab": {
          "base_uri": "https://localhost:8080/",
          "height": 204
        },
        "outputId": "5760dda0-b9be-4d48-8735-9bd952ba1fba"
      },
      "source": [
        "# import dataset\n",
        "df = pd.read_csv(\"Cardiotocographic - Cardiotocographic.csv\")\n",
        "df.head()"
      ],
      "execution_count": 3,
      "outputs": [
        {
          "output_type": "execute_result",
          "data": {
            "text/html": [
              "<div>\n",
              "<style scoped>\n",
              "    .dataframe tbody tr th:only-of-type {\n",
              "        vertical-align: middle;\n",
              "    }\n",
              "\n",
              "    .dataframe tbody tr th {\n",
              "        vertical-align: top;\n",
              "    }\n",
              "\n",
              "    .dataframe thead th {\n",
              "        text-align: right;\n",
              "    }\n",
              "</style>\n",
              "<table border=\"1\" class=\"dataframe\">\n",
              "  <thead>\n",
              "    <tr style=\"text-align: right;\">\n",
              "      <th></th>\n",
              "      <th>LB</th>\n",
              "      <th>AC</th>\n",
              "      <th>FM</th>\n",
              "      <th>UC</th>\n",
              "      <th>DL</th>\n",
              "      <th>DS</th>\n",
              "      <th>DP</th>\n",
              "      <th>ASTV</th>\n",
              "      <th>MSTV</th>\n",
              "      <th>ALTV</th>\n",
              "      <th>MLTV</th>\n",
              "      <th>Width</th>\n",
              "      <th>Min</th>\n",
              "      <th>Max</th>\n",
              "      <th>Nmax</th>\n",
              "      <th>Nzeros</th>\n",
              "      <th>Mode</th>\n",
              "      <th>Mean</th>\n",
              "      <th>Median</th>\n",
              "      <th>Variance</th>\n",
              "      <th>Tendency</th>\n",
              "      <th>NSP</th>\n",
              "    </tr>\n",
              "  </thead>\n",
              "  <tbody>\n",
              "    <tr>\n",
              "      <th>0</th>\n",
              "      <td>120</td>\n",
              "      <td>0.000000</td>\n",
              "      <td>0.0</td>\n",
              "      <td>0.000000</td>\n",
              "      <td>0.000000</td>\n",
              "      <td>0.0</td>\n",
              "      <td>0.0</td>\n",
              "      <td>73</td>\n",
              "      <td>0.5</td>\n",
              "      <td>43</td>\n",
              "      <td>2.4</td>\n",
              "      <td>64</td>\n",
              "      <td>62</td>\n",
              "      <td>126</td>\n",
              "      <td>2</td>\n",
              "      <td>0</td>\n",
              "      <td>120</td>\n",
              "      <td>137</td>\n",
              "      <td>121</td>\n",
              "      <td>73</td>\n",
              "      <td>1</td>\n",
              "      <td>2</td>\n",
              "    </tr>\n",
              "    <tr>\n",
              "      <th>1</th>\n",
              "      <td>132</td>\n",
              "      <td>0.006380</td>\n",
              "      <td>0.0</td>\n",
              "      <td>0.006380</td>\n",
              "      <td>0.003190</td>\n",
              "      <td>0.0</td>\n",
              "      <td>0.0</td>\n",
              "      <td>17</td>\n",
              "      <td>2.1</td>\n",
              "      <td>0</td>\n",
              "      <td>10.4</td>\n",
              "      <td>130</td>\n",
              "      <td>68</td>\n",
              "      <td>198</td>\n",
              "      <td>6</td>\n",
              "      <td>1</td>\n",
              "      <td>141</td>\n",
              "      <td>136</td>\n",
              "      <td>140</td>\n",
              "      <td>12</td>\n",
              "      <td>0</td>\n",
              "      <td>1</td>\n",
              "    </tr>\n",
              "    <tr>\n",
              "      <th>2</th>\n",
              "      <td>133</td>\n",
              "      <td>0.003322</td>\n",
              "      <td>0.0</td>\n",
              "      <td>0.008306</td>\n",
              "      <td>0.003322</td>\n",
              "      <td>0.0</td>\n",
              "      <td>0.0</td>\n",
              "      <td>16</td>\n",
              "      <td>2.1</td>\n",
              "      <td>0</td>\n",
              "      <td>13.4</td>\n",
              "      <td>130</td>\n",
              "      <td>68</td>\n",
              "      <td>198</td>\n",
              "      <td>5</td>\n",
              "      <td>1</td>\n",
              "      <td>141</td>\n",
              "      <td>135</td>\n",
              "      <td>138</td>\n",
              "      <td>13</td>\n",
              "      <td>0</td>\n",
              "      <td>1</td>\n",
              "    </tr>\n",
              "    <tr>\n",
              "      <th>3</th>\n",
              "      <td>134</td>\n",
              "      <td>0.002561</td>\n",
              "      <td>0.0</td>\n",
              "      <td>0.007682</td>\n",
              "      <td>0.002561</td>\n",
              "      <td>0.0</td>\n",
              "      <td>0.0</td>\n",
              "      <td>16</td>\n",
              "      <td>2.4</td>\n",
              "      <td>0</td>\n",
              "      <td>23.0</td>\n",
              "      <td>117</td>\n",
              "      <td>53</td>\n",
              "      <td>170</td>\n",
              "      <td>11</td>\n",
              "      <td>0</td>\n",
              "      <td>137</td>\n",
              "      <td>134</td>\n",
              "      <td>137</td>\n",
              "      <td>13</td>\n",
              "      <td>1</td>\n",
              "      <td>1</td>\n",
              "    </tr>\n",
              "    <tr>\n",
              "      <th>4</th>\n",
              "      <td>132</td>\n",
              "      <td>0.006515</td>\n",
              "      <td>0.0</td>\n",
              "      <td>0.008143</td>\n",
              "      <td>0.000000</td>\n",
              "      <td>0.0</td>\n",
              "      <td>0.0</td>\n",
              "      <td>16</td>\n",
              "      <td>2.4</td>\n",
              "      <td>0</td>\n",
              "      <td>19.9</td>\n",
              "      <td>117</td>\n",
              "      <td>53</td>\n",
              "      <td>170</td>\n",
              "      <td>9</td>\n",
              "      <td>0</td>\n",
              "      <td>137</td>\n",
              "      <td>136</td>\n",
              "      <td>138</td>\n",
              "      <td>11</td>\n",
              "      <td>1</td>\n",
              "      <td>1</td>\n",
              "    </tr>\n",
              "  </tbody>\n",
              "</table>\n",
              "</div>"
            ],
            "text/plain": [
              "    LB        AC   FM        UC ...   Median  Variance  Tendency  NSP\n",
              "0  120  0.000000  0.0  0.000000 ...      121        73         1    2\n",
              "1  132  0.006380  0.0  0.006380 ...      140        12         0    1\n",
              "2  133  0.003322  0.0  0.008306 ...      138        13         0    1\n",
              "3  134  0.002561  0.0  0.007682 ...      137        13         1    1\n",
              "4  132  0.006515  0.0  0.008143 ...      138        11         1    1\n",
              "\n",
              "[5 rows x 22 columns]"
            ]
          },
          "metadata": {
            "tags": []
          },
          "execution_count": 3
        }
      ]
    },
    {
      "cell_type": "code",
      "metadata": {
        "id": "eMsMRWXzLEPp",
        "colab_type": "code",
        "colab": {
          "base_uri": "https://localhost:8080/",
          "height": 34
        },
        "outputId": "496c05f8-0fb2-4904-a71c-afbd0acccc4d"
      },
      "source": [
        "df['NSP'].unique()"
      ],
      "execution_count": 4,
      "outputs": [
        {
          "output_type": "execute_result",
          "data": {
            "text/plain": [
              "array([2, 1, 3])"
            ]
          },
          "metadata": {
            "tags": []
          },
          "execution_count": 4
        }
      ]
    },
    {
      "cell_type": "code",
      "metadata": {
        "id": "VaYSddA_LYA6",
        "colab_type": "code",
        "colab": {}
      },
      "source": [
        "df.columns\n",
        "Columns = ['LB', 'AC', 'FM', 'UC', 'DL', 'DS', 'DP', 'ASTV', 'MSTV', 'ALTV',\n",
        "       'MLTV', 'Width', 'Min', 'Max', 'Nmax', 'Nzeros', 'Mode', 'Mean',\n",
        "       'Median', 'Variance', 'Tendency']"
      ],
      "execution_count": 25,
      "outputs": []
    },
    {
      "cell_type": "code",
      "metadata": {
        "id": "ZRUjrhvtL89q",
        "colab_type": "code",
        "colab": {}
      },
      "source": [
        "#NSP TO BE CONVERTED INTO FACTORS\n",
        "df['NSP']= df['NSP'].astype('category')"
      ],
      "execution_count": 7,
      "outputs": []
    },
    {
      "cell_type": "code",
      "metadata": {
        "id": "1n4Std8AMX_l",
        "colab_type": "code",
        "colab": {
          "base_uri": "https://localhost:8080/",
          "height": 1000
        },
        "outputId": "6148198a-d263-4499-bc79-52a8284cabb6"
      },
      "source": [
        "df.describe"
      ],
      "execution_count": 12,
      "outputs": [
        {
          "output_type": "execute_result",
          "data": {
            "text/plain": [
              "<bound method NDFrame.describe of        LB        AC        FM        UC ...   Median  Variance  Tendency  NSP\n",
              "0     120  0.000000  0.000000  0.000000 ...      121        73         1    2\n",
              "1     132  0.006380  0.000000  0.006380 ...      140        12         0    1\n",
              "2     133  0.003322  0.000000  0.008306 ...      138        13         0    1\n",
              "3     134  0.002561  0.000000  0.007682 ...      137        13         1    1\n",
              "4     132  0.006515  0.000000  0.008143 ...      138        11         1    1\n",
              "5     134  0.001049  0.000000  0.010493 ...      107       170         0    3\n",
              "6     134  0.001403  0.000000  0.012623 ...      106       215         0    3\n",
              "7     122  0.000000  0.000000  0.000000 ...      123         3         1    3\n",
              "8     122  0.000000  0.000000  0.001517 ...      123         3         1    3\n",
              "9     122  0.000000  0.000000  0.002967 ...      123         1         1    3\n",
              "10    151  0.000000  0.000000  0.000834 ...      151         9         1    2\n",
              "11    150  0.000000  0.000000  0.000983 ...      151        10         1    2\n",
              "12    131  0.005076  0.072335  0.007614 ...      137         7         1    1\n",
              "13    131  0.009077  0.222390  0.006051 ...      141        10         1    1\n",
              "14    130  0.005838  0.407840  0.004170 ...      135        76         0    1\n",
              "15    130  0.005571  0.380223  0.004178 ...      133        43         0    1\n",
              "16    130  0.006088  0.441400  0.004566 ...      138        70         1    1\n",
              "17    131  0.001524  0.382622  0.003049 ...      132        45         0    2\n",
              "18    130  0.002845  0.450925  0.005690 ...      129        36         1    1\n",
              "19    130  0.005055  0.469250  0.005055 ...      133        27         0    1\n",
              "20    129  0.000000  0.340045  0.004474 ...      120       138         0    3\n",
              "21    128  0.004687  0.425000  0.003125 ...      132        34         0    1\n",
              "22    128  0.000000  0.333841  0.003049 ...      102       148        -1    3\n",
              "23    128  0.000000  0.000000  0.000000 ...      125         1         1    3\n",
              "24    128  0.000000  0.000000  0.003311 ...      129         0         1    3\n",
              "25    124  0.000000  0.000000  0.000000 ...      125         0         0    3\n",
              "26    124  0.000000  0.000000  0.000000 ...      127         0        -1    3\n",
              "27    124  0.000000  0.000000  0.000000 ...      125         0         0    3\n",
              "28    132  0.000000  0.135113  0.000834 ...      129        73         0    2\n",
              "29    132  0.000000  0.098784  0.000000 ...      117        89         0    1\n",
              "...   ...       ...       ...       ... ...      ...       ...       ...  ...\n",
              "2096  133  0.000000  0.000000  0.006711 ...      139         1         0    1\n",
              "2097  133  0.000000  0.000000  0.005312 ...      138         0        -1    1\n",
              "2098  133  0.000000  0.004202  0.005602 ...      137         1         0    1\n",
              "2099  133  0.000000  0.008653  0.004944 ...      136         1         1    1\n",
              "2100  133  0.000000  0.009840  0.004920 ...      135         1         1    1\n",
              "2101  133  0.000000  0.009357  0.008187 ...      134         2         1    1\n",
              "2102  133  0.000000  0.006031  0.007238 ...      134         2         1    1\n",
              "2103  133  0.000000  0.001261  0.007566 ...      135         3         0    1\n",
              "2104  136  0.000000  0.000000  0.009371 ...      139         0         0    1\n",
              "2105  136  0.000000  0.000000  0.009324 ...      139         0         0    1\n",
              "2106  136  0.000000  0.001096  0.007675 ...      139         1         1    1\n",
              "2107  136  0.000000  0.001294  0.006468 ...      138         1         1    1\n",
              "2108  136  0.000000  0.002567  0.007702 ...      136         2         1    1\n",
              "2109  136  0.000000  0.001280  0.007682 ...      136         2         1    1\n",
              "2110  136  0.000000  0.004110  0.008219 ...      131        45         1    1\n",
              "2111  136  0.000000  0.004348  0.008696 ...      123        71         1    1\n",
              "2112  136  0.000000  0.004823  0.006431 ...      128        53         1    1\n",
              "2113  136  0.000000  0.002070  0.008282 ...      138         4         0    1\n",
              "2114  137  0.000000  0.000000  0.007009 ...      145         1         1    1\n",
              "2115  140  0.000000  0.000000  0.006424 ...      146         0         0    1\n",
              "2116  140  0.003968  0.000000  0.003968 ...      149         1         0    1\n",
              "2117  140  0.000000  0.000000  0.007812 ...      145         1         1    1\n",
              "2118  140  0.000000  0.000000  0.006470 ...      145         2         1    1\n",
              "2119  140  0.000000  0.000000  0.006764 ...      145         1         1    1\n",
              "2120  140  0.000000  0.000000  0.004975 ...      145         2         0    1\n",
              "2121  140  0.000000  0.000000  0.007426 ...      152         2         0    2\n",
              "2122  140  0.000775  0.000000  0.006971 ...      151         3         1    2\n",
              "2123  140  0.000980  0.000000  0.006863 ...      152         4         1    2\n",
              "2124  140  0.000679  0.000000  0.006110 ...      151         4         1    2\n",
              "2125  142  0.001616  0.001616  0.008078 ...      145         1         0    1\n",
              "\n",
              "[2126 rows x 22 columns]>"
            ]
          },
          "metadata": {
            "tags": []
          },
          "execution_count": 12
        }
      ]
    },
    {
      "cell_type": "code",
      "metadata": {
        "id": "7Z-mxyOWMeOM",
        "colab_type": "code",
        "colab": {
          "base_uri": "https://localhost:8080/",
          "height": 1000
        },
        "outputId": "fa02152d-af16-41bd-e537-240d97980ed2"
      },
      "source": [
        "df.count"
      ],
      "execution_count": 9,
      "outputs": [
        {
          "output_type": "execute_result",
          "data": {
            "text/plain": [
              "<bound method DataFrame.count of        LB        AC        FM        UC ...   Median  Variance  Tendency  NSP\n",
              "0     120  0.000000  0.000000  0.000000 ...      121        73         1    2\n",
              "1     132  0.006380  0.000000  0.006380 ...      140        12         0    1\n",
              "2     133  0.003322  0.000000  0.008306 ...      138        13         0    1\n",
              "3     134  0.002561  0.000000  0.007682 ...      137        13         1    1\n",
              "4     132  0.006515  0.000000  0.008143 ...      138        11         1    1\n",
              "5     134  0.001049  0.000000  0.010493 ...      107       170         0    3\n",
              "6     134  0.001403  0.000000  0.012623 ...      106       215         0    3\n",
              "7     122  0.000000  0.000000  0.000000 ...      123         3         1    3\n",
              "8     122  0.000000  0.000000  0.001517 ...      123         3         1    3\n",
              "9     122  0.000000  0.000000  0.002967 ...      123         1         1    3\n",
              "10    151  0.000000  0.000000  0.000834 ...      151         9         1    2\n",
              "11    150  0.000000  0.000000  0.000983 ...      151        10         1    2\n",
              "12    131  0.005076  0.072335  0.007614 ...      137         7         1    1\n",
              "13    131  0.009077  0.222390  0.006051 ...      141        10         1    1\n",
              "14    130  0.005838  0.407840  0.004170 ...      135        76         0    1\n",
              "15    130  0.005571  0.380223  0.004178 ...      133        43         0    1\n",
              "16    130  0.006088  0.441400  0.004566 ...      138        70         1    1\n",
              "17    131  0.001524  0.382622  0.003049 ...      132        45         0    2\n",
              "18    130  0.002845  0.450925  0.005690 ...      129        36         1    1\n",
              "19    130  0.005055  0.469250  0.005055 ...      133        27         0    1\n",
              "20    129  0.000000  0.340045  0.004474 ...      120       138         0    3\n",
              "21    128  0.004687  0.425000  0.003125 ...      132        34         0    1\n",
              "22    128  0.000000  0.333841  0.003049 ...      102       148        -1    3\n",
              "23    128  0.000000  0.000000  0.000000 ...      125         1         1    3\n",
              "24    128  0.000000  0.000000  0.003311 ...      129         0         1    3\n",
              "25    124  0.000000  0.000000  0.000000 ...      125         0         0    3\n",
              "26    124  0.000000  0.000000  0.000000 ...      127         0        -1    3\n",
              "27    124  0.000000  0.000000  0.000000 ...      125         0         0    3\n",
              "28    132  0.000000  0.135113  0.000834 ...      129        73         0    2\n",
              "29    132  0.000000  0.098784  0.000000 ...      117        89         0    1\n",
              "...   ...       ...       ...       ... ...      ...       ...       ...  ...\n",
              "2096  133  0.000000  0.000000  0.006711 ...      139         1         0    1\n",
              "2097  133  0.000000  0.000000  0.005312 ...      138         0        -1    1\n",
              "2098  133  0.000000  0.004202  0.005602 ...      137         1         0    1\n",
              "2099  133  0.000000  0.008653  0.004944 ...      136         1         1    1\n",
              "2100  133  0.000000  0.009840  0.004920 ...      135         1         1    1\n",
              "2101  133  0.000000  0.009357  0.008187 ...      134         2         1    1\n",
              "2102  133  0.000000  0.006031  0.007238 ...      134         2         1    1\n",
              "2103  133  0.000000  0.001261  0.007566 ...      135         3         0    1\n",
              "2104  136  0.000000  0.000000  0.009371 ...      139         0         0    1\n",
              "2105  136  0.000000  0.000000  0.009324 ...      139         0         0    1\n",
              "2106  136  0.000000  0.001096  0.007675 ...      139         1         1    1\n",
              "2107  136  0.000000  0.001294  0.006468 ...      138         1         1    1\n",
              "2108  136  0.000000  0.002567  0.007702 ...      136         2         1    1\n",
              "2109  136  0.000000  0.001280  0.007682 ...      136         2         1    1\n",
              "2110  136  0.000000  0.004110  0.008219 ...      131        45         1    1\n",
              "2111  136  0.000000  0.004348  0.008696 ...      123        71         1    1\n",
              "2112  136  0.000000  0.004823  0.006431 ...      128        53         1    1\n",
              "2113  136  0.000000  0.002070  0.008282 ...      138         4         0    1\n",
              "2114  137  0.000000  0.000000  0.007009 ...      145         1         1    1\n",
              "2115  140  0.000000  0.000000  0.006424 ...      146         0         0    1\n",
              "2116  140  0.003968  0.000000  0.003968 ...      149         1         0    1\n",
              "2117  140  0.000000  0.000000  0.007812 ...      145         1         1    1\n",
              "2118  140  0.000000  0.000000  0.006470 ...      145         2         1    1\n",
              "2119  140  0.000000  0.000000  0.006764 ...      145         1         1    1\n",
              "2120  140  0.000000  0.000000  0.004975 ...      145         2         0    1\n",
              "2121  140  0.000000  0.000000  0.007426 ...      152         2         0    2\n",
              "2122  140  0.000775  0.000000  0.006971 ...      151         3         1    2\n",
              "2123  140  0.000980  0.000000  0.006863 ...      152         4         1    2\n",
              "2124  140  0.000679  0.000000  0.006110 ...      151         4         1    2\n",
              "2125  142  0.001616  0.001616  0.008078 ...      145         1         0    1\n",
              "\n",
              "[2126 rows x 22 columns]>"
            ]
          },
          "metadata": {
            "tags": []
          },
          "execution_count": 9
        }
      ]
    },
    {
      "cell_type": "code",
      "metadata": {
        "id": "-UtekaDYMmbw",
        "colab_type": "code",
        "colab": {
          "base_uri": "https://localhost:8080/",
          "height": 1000
        },
        "outputId": "40f55fa4-d281-4fd6-ede6-980e0eae5b94"
      },
      "source": [
        "df[['LB','NSP']].describe"
      ],
      "execution_count": 18,
      "outputs": [
        {
          "output_type": "execute_result",
          "data": {
            "text/plain": [
              "<bound method NDFrame.describe of        LB NSP\n",
              "0     120   2\n",
              "1     132   1\n",
              "2     133   1\n",
              "3     134   1\n",
              "4     132   1\n",
              "5     134   3\n",
              "6     134   3\n",
              "7     122   3\n",
              "8     122   3\n",
              "9     122   3\n",
              "10    151   2\n",
              "11    150   2\n",
              "12    131   1\n",
              "13    131   1\n",
              "14    130   1\n",
              "15    130   1\n",
              "16    130   1\n",
              "17    131   2\n",
              "18    130   1\n",
              "19    130   1\n",
              "20    129   3\n",
              "21    128   1\n",
              "22    128   3\n",
              "23    128   3\n",
              "24    128   3\n",
              "25    124   3\n",
              "26    124   3\n",
              "27    124   3\n",
              "28    132   2\n",
              "29    132   1\n",
              "...   ...  ..\n",
              "2096  133   1\n",
              "2097  133   1\n",
              "2098  133   1\n",
              "2099  133   1\n",
              "2100  133   1\n",
              "2101  133   1\n",
              "2102  133   1\n",
              "2103  133   1\n",
              "2104  136   1\n",
              "2105  136   1\n",
              "2106  136   1\n",
              "2107  136   1\n",
              "2108  136   1\n",
              "2109  136   1\n",
              "2110  136   1\n",
              "2111  136   1\n",
              "2112  136   1\n",
              "2113  136   1\n",
              "2114  137   1\n",
              "2115  140   1\n",
              "2116  140   1\n",
              "2117  140   1\n",
              "2118  140   1\n",
              "2119  140   1\n",
              "2120  140   1\n",
              "2121  140   2\n",
              "2122  140   2\n",
              "2123  140   2\n",
              "2124  140   2\n",
              "2125  142   1\n",
              "\n",
              "[2126 rows x 2 columns]>"
            ]
          },
          "metadata": {
            "tags": []
          },
          "execution_count": 18
        }
      ]
    },
    {
      "cell_type": "code",
      "metadata": {
        "id": "GuIUSK4hNRTf",
        "colab_type": "code",
        "colab": {
          "base_uri": "https://localhost:8080/",
          "height": 204
        },
        "outputId": "5a7b50e0-a9da-48da-8df8-25e1abb13c4f"
      },
      "source": [
        "X=df[Columns]\n",
        "X.head()"
      ],
      "execution_count": 29,
      "outputs": [
        {
          "output_type": "execute_result",
          "data": {
            "text/html": [
              "<div>\n",
              "<style scoped>\n",
              "    .dataframe tbody tr th:only-of-type {\n",
              "        vertical-align: middle;\n",
              "    }\n",
              "\n",
              "    .dataframe tbody tr th {\n",
              "        vertical-align: top;\n",
              "    }\n",
              "\n",
              "    .dataframe thead th {\n",
              "        text-align: right;\n",
              "    }\n",
              "</style>\n",
              "<table border=\"1\" class=\"dataframe\">\n",
              "  <thead>\n",
              "    <tr style=\"text-align: right;\">\n",
              "      <th></th>\n",
              "      <th>LB</th>\n",
              "      <th>AC</th>\n",
              "      <th>FM</th>\n",
              "      <th>UC</th>\n",
              "      <th>DL</th>\n",
              "      <th>DS</th>\n",
              "      <th>DP</th>\n",
              "      <th>ASTV</th>\n",
              "      <th>MSTV</th>\n",
              "      <th>ALTV</th>\n",
              "      <th>MLTV</th>\n",
              "      <th>Width</th>\n",
              "      <th>Min</th>\n",
              "      <th>Max</th>\n",
              "      <th>Nmax</th>\n",
              "      <th>Nzeros</th>\n",
              "      <th>Mode</th>\n",
              "      <th>Mean</th>\n",
              "      <th>Median</th>\n",
              "      <th>Variance</th>\n",
              "      <th>Tendency</th>\n",
              "    </tr>\n",
              "  </thead>\n",
              "  <tbody>\n",
              "    <tr>\n",
              "      <th>0</th>\n",
              "      <td>120</td>\n",
              "      <td>0.000000</td>\n",
              "      <td>0.0</td>\n",
              "      <td>0.000000</td>\n",
              "      <td>0.000000</td>\n",
              "      <td>0.0</td>\n",
              "      <td>0.0</td>\n",
              "      <td>73</td>\n",
              "      <td>0.5</td>\n",
              "      <td>43</td>\n",
              "      <td>2.4</td>\n",
              "      <td>64</td>\n",
              "      <td>62</td>\n",
              "      <td>126</td>\n",
              "      <td>2</td>\n",
              "      <td>0</td>\n",
              "      <td>120</td>\n",
              "      <td>137</td>\n",
              "      <td>121</td>\n",
              "      <td>73</td>\n",
              "      <td>1</td>\n",
              "    </tr>\n",
              "    <tr>\n",
              "      <th>1</th>\n",
              "      <td>132</td>\n",
              "      <td>0.006380</td>\n",
              "      <td>0.0</td>\n",
              "      <td>0.006380</td>\n",
              "      <td>0.003190</td>\n",
              "      <td>0.0</td>\n",
              "      <td>0.0</td>\n",
              "      <td>17</td>\n",
              "      <td>2.1</td>\n",
              "      <td>0</td>\n",
              "      <td>10.4</td>\n",
              "      <td>130</td>\n",
              "      <td>68</td>\n",
              "      <td>198</td>\n",
              "      <td>6</td>\n",
              "      <td>1</td>\n",
              "      <td>141</td>\n",
              "      <td>136</td>\n",
              "      <td>140</td>\n",
              "      <td>12</td>\n",
              "      <td>0</td>\n",
              "    </tr>\n",
              "    <tr>\n",
              "      <th>2</th>\n",
              "      <td>133</td>\n",
              "      <td>0.003322</td>\n",
              "      <td>0.0</td>\n",
              "      <td>0.008306</td>\n",
              "      <td>0.003322</td>\n",
              "      <td>0.0</td>\n",
              "      <td>0.0</td>\n",
              "      <td>16</td>\n",
              "      <td>2.1</td>\n",
              "      <td>0</td>\n",
              "      <td>13.4</td>\n",
              "      <td>130</td>\n",
              "      <td>68</td>\n",
              "      <td>198</td>\n",
              "      <td>5</td>\n",
              "      <td>1</td>\n",
              "      <td>141</td>\n",
              "      <td>135</td>\n",
              "      <td>138</td>\n",
              "      <td>13</td>\n",
              "      <td>0</td>\n",
              "    </tr>\n",
              "    <tr>\n",
              "      <th>3</th>\n",
              "      <td>134</td>\n",
              "      <td>0.002561</td>\n",
              "      <td>0.0</td>\n",
              "      <td>0.007682</td>\n",
              "      <td>0.002561</td>\n",
              "      <td>0.0</td>\n",
              "      <td>0.0</td>\n",
              "      <td>16</td>\n",
              "      <td>2.4</td>\n",
              "      <td>0</td>\n",
              "      <td>23.0</td>\n",
              "      <td>117</td>\n",
              "      <td>53</td>\n",
              "      <td>170</td>\n",
              "      <td>11</td>\n",
              "      <td>0</td>\n",
              "      <td>137</td>\n",
              "      <td>134</td>\n",
              "      <td>137</td>\n",
              "      <td>13</td>\n",
              "      <td>1</td>\n",
              "    </tr>\n",
              "    <tr>\n",
              "      <th>4</th>\n",
              "      <td>132</td>\n",
              "      <td>0.006515</td>\n",
              "      <td>0.0</td>\n",
              "      <td>0.008143</td>\n",
              "      <td>0.000000</td>\n",
              "      <td>0.0</td>\n",
              "      <td>0.0</td>\n",
              "      <td>16</td>\n",
              "      <td>2.4</td>\n",
              "      <td>0</td>\n",
              "      <td>19.9</td>\n",
              "      <td>117</td>\n",
              "      <td>53</td>\n",
              "      <td>170</td>\n",
              "      <td>9</td>\n",
              "      <td>0</td>\n",
              "      <td>137</td>\n",
              "      <td>136</td>\n",
              "      <td>138</td>\n",
              "      <td>11</td>\n",
              "      <td>1</td>\n",
              "    </tr>\n",
              "  </tbody>\n",
              "</table>\n",
              "</div>"
            ],
            "text/plain": [
              "    LB        AC   FM        UC    ...     Mean  Median  Variance  Tendency\n",
              "0  120  0.000000  0.0  0.000000    ...      137     121        73         1\n",
              "1  132  0.006380  0.0  0.006380    ...      136     140        12         0\n",
              "2  133  0.003322  0.0  0.008306    ...      135     138        13         0\n",
              "3  134  0.002561  0.0  0.007682    ...      134     137        13         1\n",
              "4  132  0.006515  0.0  0.008143    ...      136     138        11         1\n",
              "\n",
              "[5 rows x 21 columns]"
            ]
          },
          "metadata": {
            "tags": []
          },
          "execution_count": 29
        }
      ]
    },
    {
      "cell_type": "code",
      "metadata": {
        "id": "NY8B1UYoPksV",
        "colab_type": "code",
        "colab": {
          "base_uri": "https://localhost:8080/",
          "height": 204
        },
        "outputId": "fd765426-5b60-4d1a-fb76-65138f8ed317"
      },
      "source": [
        "y=df['NSP']\n",
        "y.columns = ['NSP']\n",
        "y=pd.DataFrame(y)\n",
        "y.head()"
      ],
      "execution_count": 43,
      "outputs": [
        {
          "output_type": "execute_result",
          "data": {
            "text/html": [
              "<div>\n",
              "<style scoped>\n",
              "    .dataframe tbody tr th:only-of-type {\n",
              "        vertical-align: middle;\n",
              "    }\n",
              "\n",
              "    .dataframe tbody tr th {\n",
              "        vertical-align: top;\n",
              "    }\n",
              "\n",
              "    .dataframe thead th {\n",
              "        text-align: right;\n",
              "    }\n",
              "</style>\n",
              "<table border=\"1\" class=\"dataframe\">\n",
              "  <thead>\n",
              "    <tr style=\"text-align: right;\">\n",
              "      <th></th>\n",
              "      <th>NSP</th>\n",
              "    </tr>\n",
              "  </thead>\n",
              "  <tbody>\n",
              "    <tr>\n",
              "      <th>0</th>\n",
              "      <td>2</td>\n",
              "    </tr>\n",
              "    <tr>\n",
              "      <th>1</th>\n",
              "      <td>1</td>\n",
              "    </tr>\n",
              "    <tr>\n",
              "      <th>2</th>\n",
              "      <td>1</td>\n",
              "    </tr>\n",
              "    <tr>\n",
              "      <th>3</th>\n",
              "      <td>1</td>\n",
              "    </tr>\n",
              "    <tr>\n",
              "      <th>4</th>\n",
              "      <td>1</td>\n",
              "    </tr>\n",
              "  </tbody>\n",
              "</table>\n",
              "</div>"
            ],
            "text/plain": [
              "  NSP\n",
              "0   2\n",
              "1   1\n",
              "2   1\n",
              "3   1\n",
              "4   1"
            ]
          },
          "metadata": {
            "tags": []
          },
          "execution_count": 43
        }
      ]
    },
    {
      "cell_type": "code",
      "metadata": {
        "id": "Pc9eRBpUSfgE",
        "colab_type": "code",
        "colab": {}
      },
      "source": [
        "#Feature Engineering using feature selection\n",
        "from feature_selector import FeatureSelector\n",
        "#features are in train and in train labels\n",
        "fs = FeatureSelector(data=X,labels=y)"
      ],
      "execution_count": 64,
      "outputs": []
    },
    {
      "cell_type": "code",
      "metadata": {
        "id": "xpJFtfSTTspQ",
        "colab_type": "code",
        "colab": {
          "base_uri": "https://localhost:8080/",
          "height": 799
        },
        "outputId": "f63a2108-3e32-41fc-dad7-0c7a62806c71"
      },
      "source": [
        "fs.identify_all(selection_params = {'missing_threshold': 0.6,    \n",
        "                                    'correlation_threshold': 0.98, \n",
        "                                    'task': 'classification',    \n",
        "                                    'eval_metric': 'auc', \n",
        "                                    'cumulative_importance': 0.99})"
      ],
      "execution_count": 65,
      "outputs": [
        {
          "output_type": "stream",
          "text": [
            "0 features with greater than 0.60 missing values.\n",
            "\n",
            "0 features with a single unique value.\n",
            "\n",
            "0 features with a correlation magnitude greater than 0.98.\n",
            "\n",
            "Training Gradient Boosting Model\n",
            "\n",
            "Training until validation scores don't improve for 100 rounds.\n",
            "Early stopping, best iteration is:\n",
            "[1]\tvalid_0's auc: 0.0297917\n",
            "Training until validation scores don't improve for 100 rounds.\n",
            "Early stopping, best iteration is:\n",
            "[1]\tvalid_0's auc: 0.0253791\n",
            "Training until validation scores don't improve for 100 rounds.\n",
            "Early stopping, best iteration is:\n",
            "[1]\tvalid_0's auc: 0.0295594\n",
            "Training until validation scores don't improve for 100 rounds.\n",
            "Early stopping, best iteration is:\n",
            "[69]\tvalid_0's auc: 0.0379414\n",
            "Training until validation scores don't improve for 100 rounds.\n",
            "Early stopping, best iteration is:\n",
            "[1]\tvalid_0's auc: 0.0413874\n",
            "Training until validation scores don't improve for 100 rounds.\n",
            "Early stopping, best iteration is:\n",
            "[2]\tvalid_0's auc: 0.0575875\n",
            "Training until validation scores don't improve for 100 rounds.\n",
            "Early stopping, best iteration is:\n",
            "[1]\tvalid_0's auc: 0.0566552\n",
            "Training until validation scores don't improve for 100 rounds.\n",
            "Early stopping, best iteration is:\n",
            "[1]\tvalid_0's auc: 0.0322419\n",
            "Training until validation scores don't improve for 100 rounds.\n",
            "Early stopping, best iteration is:\n",
            "[11]\tvalid_0's auc: 0.0733057\n",
            "Training until validation scores don't improve for 100 rounds.\n",
            "Early stopping, best iteration is:\n",
            "[4]\tvalid_0's auc: 0.0568822\n",
            "\n",
            "1 features with zero importance after one-hot encoding.\n",
            "\n",
            "17 features required for cumulative importance of 0.99 after one hot encoding.\n",
            "4 features do not contribute to cumulative importance of 0.99.\n",
            "\n",
            "4 total features out of 21 identified for removal after one-hot encoding.\n",
            "\n"
          ],
          "name": "stdout"
        }
      ]
    },
    {
      "cell_type": "code",
      "metadata": {
        "id": "GguLJoOWULX0",
        "colab_type": "code",
        "colab": {
          "base_uri": "https://localhost:8080/",
          "height": 68
        },
        "outputId": "f6a41d29-8b19-473c-dea7-2f7a0f0188ef"
      },
      "source": [
        "train_removed_all = fs.remove(methods = 'all', keep_one_hot=False)"
      ],
      "execution_count": 66,
      "outputs": [
        {
          "output_type": "stream",
          "text": [
            "['missing', 'single_unique', 'collinear', 'zero_importance', 'low_importance'] methods have been run\n",
            "\n",
            "Removed 4 features including one-hot features.\n"
          ],
          "name": "stdout"
        }
      ]
    },
    {
      "cell_type": "code",
      "metadata": {
        "id": "aSaOXpF3T9vX",
        "colab_type": "code",
        "colab": {
          "base_uri": "https://localhost:8080/",
          "height": 34
        },
        "outputId": "c2308c2b-f247-419e-b3bb-2ce822334274"
      },
      "source": [
        "train_removed_all.head()\n",
        "train_removed_all.shape"
      ],
      "execution_count": 67,
      "outputs": [
        {
          "output_type": "execute_result",
          "data": {
            "text/plain": [
              "(2126, 17)"
            ]
          },
          "metadata": {
            "tags": []
          },
          "execution_count": 67
        }
      ]
    },
    {
      "cell_type": "code",
      "metadata": {
        "id": "luyekwE8UA-U",
        "colab_type": "code",
        "colab": {
          "base_uri": "https://localhost:8080/",
          "height": 34
        },
        "outputId": "797bd1ed-b18f-4191-80d7-6f31f79d0f84"
      },
      "source": [
        "X_new=train_removed_all\n",
        "X_new.shape"
      ],
      "execution_count": 68,
      "outputs": [
        {
          "output_type": "execute_result",
          "data": {
            "text/plain": [
              "(2126, 17)"
            ]
          },
          "metadata": {
            "tags": []
          },
          "execution_count": 68
        }
      ]
    },
    {
      "cell_type": "code",
      "metadata": {
        "id": "Cf8UE2W_Qeeq",
        "colab_type": "code",
        "colab": {}
      },
      "source": [
        "from sklearn.model_selection import train_test_split\n",
        "X_train, X_test, y_train, y_test=train_test_split(X_new,y,test_size=0.2)"
      ],
      "execution_count": 69,
      "outputs": []
    },
    {
      "cell_type": "code",
      "metadata": {
        "id": "KOBUUX-2UdSC",
        "colab_type": "code",
        "colab": {
          "base_uri": "https://localhost:8080/",
          "height": 139
        },
        "outputId": "c5c12836-3354-4c1f-8a74-95ac79e178f9"
      },
      "source": [
        "#classifier\n",
        "from sklearn.linear_model import LogisticRegression\n",
        "clf=LogisticRegression()\n",
        "import time\n",
        "st=time.time()\n",
        "#train the model\n",
        "clf.fit(X_train,y_train)"
      ],
      "execution_count": 71,
      "outputs": [
        {
          "output_type": "stream",
          "text": [
            "/usr/local/lib/python3.6/dist-packages/sklearn/utils/validation.py:578: DataConversionWarning: A column-vector y was passed when a 1d array was expected. Please change the shape of y to (n_samples, ), for example using ravel().\n",
            "  y = column_or_1d(y, warn=True)\n"
          ],
          "name": "stderr"
        },
        {
          "output_type": "execute_result",
          "data": {
            "text/plain": [
              "LogisticRegression(C=1.0, class_weight=None, dual=False, fit_intercept=True,\n",
              "          intercept_scaling=1, max_iter=100, multi_class='ovr', n_jobs=1,\n",
              "          penalty='l2', random_state=None, solver='liblinear', tol=0.0001,\n",
              "          verbose=0, warm_start=False)"
            ]
          },
          "metadata": {
            "tags": []
          },
          "execution_count": 71
        }
      ]
    },
    {
      "cell_type": "code",
      "metadata": {
        "id": "wuGJ5bfXU785",
        "colab_type": "code",
        "colab": {}
      },
      "source": [
        "ypred = clf.predict(X_test)"
      ],
      "execution_count": 72,
      "outputs": []
    },
    {
      "cell_type": "code",
      "metadata": {
        "id": "q1aiUpS3Vu44",
        "colab_type": "code",
        "colab": {
          "base_uri": "https://localhost:8080/",
          "height": 34
        },
        "outputId": "8696864b-b44e-428c-954d-1d51fc1f5d2f"
      },
      "source": [
        "clf.score(X_test,y_test)"
      ],
      "execution_count": 73,
      "outputs": [
        {
          "output_type": "execute_result",
          "data": {
            "text/plain": [
              "0.8755868544600939"
            ]
          },
          "metadata": {
            "tags": []
          },
          "execution_count": 73
        }
      ]
    },
    {
      "cell_type": "code",
      "metadata": {
        "id": "d2ION7K8WLkz",
        "colab_type": "code",
        "colab": {
          "base_uri": "https://localhost:8080/",
          "height": 204
        },
        "outputId": "5c534ebc-9d29-4884-efee-db1635a4ed48"
      },
      "source": [
        "ypred.columns=['NSP']\n",
        "ypred = pd.DataFrame(ypred)\n",
        "ypred.head()\n"
      ],
      "execution_count": 81,
      "outputs": [
        {
          "output_type": "execute_result",
          "data": {
            "text/html": [
              "<div>\n",
              "<style scoped>\n",
              "    .dataframe tbody tr th:only-of-type {\n",
              "        vertical-align: middle;\n",
              "    }\n",
              "\n",
              "    .dataframe tbody tr th {\n",
              "        vertical-align: top;\n",
              "    }\n",
              "\n",
              "    .dataframe thead th {\n",
              "        text-align: right;\n",
              "    }\n",
              "</style>\n",
              "<table border=\"1\" class=\"dataframe\">\n",
              "  <thead>\n",
              "    <tr style=\"text-align: right;\">\n",
              "      <th></th>\n",
              "      <th>NSP</th>\n",
              "    </tr>\n",
              "  </thead>\n",
              "  <tbody>\n",
              "    <tr>\n",
              "      <th>0</th>\n",
              "      <td>1</td>\n",
              "    </tr>\n",
              "    <tr>\n",
              "      <th>1</th>\n",
              "      <td>1</td>\n",
              "    </tr>\n",
              "    <tr>\n",
              "      <th>2</th>\n",
              "      <td>1</td>\n",
              "    </tr>\n",
              "    <tr>\n",
              "      <th>3</th>\n",
              "      <td>1</td>\n",
              "    </tr>\n",
              "    <tr>\n",
              "      <th>4</th>\n",
              "      <td>3</td>\n",
              "    </tr>\n",
              "  </tbody>\n",
              "</table>\n",
              "</div>"
            ],
            "text/plain": [
              "   NSP\n",
              "0    1\n",
              "1    1\n",
              "2    1\n",
              "3    1\n",
              "4    3"
            ]
          },
          "metadata": {
            "tags": []
          },
          "execution_count": 81
        }
      ]
    },
    {
      "cell_type": "code",
      "metadata": {
        "id": "SAJ013teWOrw",
        "colab_type": "code",
        "colab": {
          "base_uri": "https://localhost:8080/",
          "height": 34
        },
        "outputId": "97f7d2f3-4e95-44c0-e63c-388c187ab9e9"
      },
      "source": [
        "#model accuracy\n",
        "acc_clf = 100 * clf.score(X_test,y_test)\n",
        "print(\"Model Score : {:.3f} %\".format(acc_clf))\n",
        "\n"
      ],
      "execution_count": 82,
      "outputs": [
        {
          "output_type": "stream",
          "text": [
            "Model Score : 87.559 %\n"
          ],
          "name": "stdout"
        }
      ]
    },
    {
      "cell_type": "code",
      "metadata": {
        "id": "pP88QPNYXJy_",
        "colab_type": "code",
        "colab": {
          "base_uri": "https://localhost:8080/",
          "height": 68
        },
        "outputId": "0b76464f-eac9-4983-8942-3bc4dbee443d"
      },
      "source": [
        "#confusion matrix\n",
        "from sklearn.metrics import confusion_matrix, classification_report\n",
        "confusion_matrix(ypred,y_test)"
      ],
      "execution_count": 83,
      "outputs": [
        {
          "output_type": "execute_result",
          "data": {
            "text/plain": [
              "array([[335,  34,   5],\n",
              "       [  4,  21,   4],\n",
              "       [  6,   0,  17]])"
            ]
          },
          "metadata": {
            "tags": []
          },
          "execution_count": 83
        }
      ]
    },
    {
      "cell_type": "code",
      "metadata": {
        "id": "uGV6yO7JXUB1",
        "colab_type": "code",
        "colab": {
          "base_uri": "https://localhost:8080/",
          "height": 153
        },
        "outputId": "7fb2f589-9878-4605-83a9-b952f36d0acd"
      },
      "source": [
        "print(classification_report(ypred,y_test))"
      ],
      "execution_count": 84,
      "outputs": [
        {
          "output_type": "stream",
          "text": [
            "             precision    recall  f1-score   support\n",
            "\n",
            "          1       0.97      0.90      0.93       374\n",
            "          2       0.38      0.72      0.50        29\n",
            "          3       0.65      0.74      0.69        23\n",
            "\n",
            "avg / total       0.91      0.88      0.89       426\n",
            "\n"
          ],
          "name": "stdout"
        }
      ]
    }
  ]
}