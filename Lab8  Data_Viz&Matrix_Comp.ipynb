{
  "nbformat": 4,
  "nbformat_minor": 0,
  "metadata": {
    "colab": {
      "name": "Gokul Lab 8.ipynb",
      "provenance": [],
      "collapsed_sections": []
    },
    "kernelspec": {
      "name": "python3",
      "display_name": "Python 3"
    }
  },
  "cells": [
    {
      "cell_type": "markdown",
      "metadata": {
        "id": "Gl-CTBTPirqM"
      },
      "source": [
        "Gokul M Nair \n",
        "\n",
        "Batch C : 2018120039\n",
        "\n",
        "Date : 09 - 11 -2020"
      ]
    },
    {
      "cell_type": "code",
      "metadata": {
        "id": "AaPzQ7xJRpIo"
      },
      "source": [
        "import numpy as np\n",
        "import pandas as pd\n",
        "import matplotlib.pyplot as plt\n",
        "import seaborn as sns"
      ],
      "execution_count": 3,
      "outputs": []
    },
    {
      "cell_type": "code",
      "metadata": {
        "id": "vEpbHZbASDYR"
      },
      "source": [
        "from pandas_datareader import data, wb"
      ],
      "execution_count": null,
      "outputs": []
    },
    {
      "cell_type": "code",
      "metadata": {
        "id": "fL__v8khYIaH"
      },
      "source": [
        "import datetime as dt\n",
        "ticker = 'GLD'\n",
        "begdate = '2015-11-11'\n",
        "enddate = '2020-10-11'\n",
        "df = data.DataReader(ticker,'yahoo',dt.datetime(2015,11,11),dt.datetime(2020,10,11))"
      ],
      "execution_count": null,
      "outputs": []
    },
    {
      "cell_type": "code",
      "metadata": {
        "id": "gza9js85Yrnr",
        "outputId": "128ada26-97d8-4045-9a61-a3e1f9e01892",
        "colab": {
          "base_uri": "https://localhost:8080/"
        }
      },
      "source": [
        "df.info()"
      ],
      "execution_count": null,
      "outputs": [
        {
          "output_type": "stream",
          "text": [
            "<class 'pandas.core.frame.DataFrame'>\n",
            "DatetimeIndex: 1237 entries, 2015-11-11 to 2020-10-09\n",
            "Data columns (total 6 columns):\n",
            " #   Column     Non-Null Count  Dtype  \n",
            "---  ------     --------------  -----  \n",
            " 0   High       1237 non-null   float64\n",
            " 1   Low        1237 non-null   float64\n",
            " 2   Open       1237 non-null   float64\n",
            " 3   Close      1237 non-null   float64\n",
            " 4   Volume     1237 non-null   int64  \n",
            " 5   Adj Close  1237 non-null   float64\n",
            "dtypes: float64(5), int64(1)\n",
            "memory usage: 67.6 KB\n"
          ],
          "name": "stdout"
        }
      ]
    },
    {
      "cell_type": "code",
      "metadata": {
        "id": "VCczgiZqYuKL",
        "outputId": "72de44d4-16de-4104-8cc6-91ce4cda093e",
        "colab": {
          "base_uri": "https://localhost:8080/",
          "height": 235
        }
      },
      "source": [
        "df.head()"
      ],
      "execution_count": null,
      "outputs": [
        {
          "output_type": "execute_result",
          "data": {
            "text/html": [
              "<div>\n",
              "<style scoped>\n",
              "    .dataframe tbody tr th:only-of-type {\n",
              "        vertical-align: middle;\n",
              "    }\n",
              "\n",
              "    .dataframe tbody tr th {\n",
              "        vertical-align: top;\n",
              "    }\n",
              "\n",
              "    .dataframe thead th {\n",
              "        text-align: right;\n",
              "    }\n",
              "</style>\n",
              "<table border=\"1\" class=\"dataframe\">\n",
              "  <thead>\n",
              "    <tr style=\"text-align: right;\">\n",
              "      <th></th>\n",
              "      <th>High</th>\n",
              "      <th>Low</th>\n",
              "      <th>Open</th>\n",
              "      <th>Close</th>\n",
              "      <th>Volume</th>\n",
              "      <th>Adj Close</th>\n",
              "    </tr>\n",
              "    <tr>\n",
              "      <th>Date</th>\n",
              "      <th></th>\n",
              "      <th></th>\n",
              "      <th></th>\n",
              "      <th></th>\n",
              "      <th></th>\n",
              "      <th></th>\n",
              "    </tr>\n",
              "  </thead>\n",
              "  <tbody>\n",
              "    <tr>\n",
              "      <th>2015-11-11</th>\n",
              "      <td>104.230003</td>\n",
              "      <td>103.779999</td>\n",
              "      <td>104.089996</td>\n",
              "      <td>103.830002</td>\n",
              "      <td>3527600</td>\n",
              "      <td>103.830002</td>\n",
              "    </tr>\n",
              "    <tr>\n",
              "      <th>2015-11-12</th>\n",
              "      <td>104.320000</td>\n",
              "      <td>103.040001</td>\n",
              "      <td>103.089996</td>\n",
              "      <td>103.849998</td>\n",
              "      <td>6300500</td>\n",
              "      <td>103.849998</td>\n",
              "    </tr>\n",
              "    <tr>\n",
              "      <th>2015-11-13</th>\n",
              "      <td>103.739998</td>\n",
              "      <td>103.449997</td>\n",
              "      <td>103.540001</td>\n",
              "      <td>103.559998</td>\n",
              "      <td>3224200</td>\n",
              "      <td>103.559998</td>\n",
              "    </tr>\n",
              "    <tr>\n",
              "      <th>2015-11-16</th>\n",
              "      <td>104.029999</td>\n",
              "      <td>103.519997</td>\n",
              "      <td>103.980003</td>\n",
              "      <td>103.709999</td>\n",
              "      <td>2951200</td>\n",
              "      <td>103.709999</td>\n",
              "    </tr>\n",
              "    <tr>\n",
              "      <th>2015-11-17</th>\n",
              "      <td>103.400002</td>\n",
              "      <td>101.980003</td>\n",
              "      <td>103.379997</td>\n",
              "      <td>102.339996</td>\n",
              "      <td>8593100</td>\n",
              "      <td>102.339996</td>\n",
              "    </tr>\n",
              "  </tbody>\n",
              "</table>\n",
              "</div>"
            ],
            "text/plain": [
              "                  High         Low        Open       Close   Volume   Adj Close\n",
              "Date                                                                           \n",
              "2015-11-11  104.230003  103.779999  104.089996  103.830002  3527600  103.830002\n",
              "2015-11-12  104.320000  103.040001  103.089996  103.849998  6300500  103.849998\n",
              "2015-11-13  103.739998  103.449997  103.540001  103.559998  3224200  103.559998\n",
              "2015-11-16  104.029999  103.519997  103.980003  103.709999  2951200  103.709999\n",
              "2015-11-17  103.400002  101.980003  103.379997  102.339996  8593100  102.339996"
            ]
          },
          "metadata": {
            "tags": []
          },
          "execution_count": 6
        }
      ]
    },
    {
      "cell_type": "code",
      "metadata": {
        "id": "yutUPc4aY6-G",
        "outputId": "99319b08-7622-4910-cdef-4a5200535ae8",
        "colab": {
          "base_uri": "https://localhost:8080/",
          "height": 367
        }
      },
      "source": [
        "plt.figure(figsize=(8,5))\n",
        "plt.grid(True)\n",
        "plt.title(\"High plot\")\n",
        "plt.xlabel(\"Year\")\n",
        "plt.ylabel(\"Value\")\n",
        "plt.plot(df['High'],'r')\n"
      ],
      "execution_count": null,
      "outputs": [
        {
          "output_type": "execute_result",
          "data": {
            "text/plain": [
              "[<matplotlib.lines.Line2D at 0x7ff6f6f573c8>]"
            ]
          },
          "metadata": {
            "tags": []
          },
          "execution_count": 12
        },
        {
          "output_type": "display_data",
          "data": {
            "image/png": "[encoded data removed]",
            "text/plain": [
              "<Figure size 576x360 with 1 Axes>"
            ]
          },
          "metadata": {
            "tags": [],
            "needs_background": "light"
          }
        }
      ]
    },
    {
      "cell_type": "code",
      "metadata": {
        "id": "dsDY2dT5ZNyd",
        "outputId": "abd9d62a-c5dd-465b-ffb4-57b4e2c1233f",
        "colab": {
          "base_uri": "https://localhost:8080/",
          "height": 350
        }
      },
      "source": [
        "sns.regplot(df['High'],df['Low'],fit_reg=True,)"
      ],
      "execution_count": null,
      "outputs": [
        {
          "output_type": "stream",
          "text": [
            "/usr/local/lib/python3.6/dist-packages/seaborn/_decorators.py:43: FutureWarning: Pass the following variables as keyword args: x, y. From version 0.12, the only valid positional argument will be `data`, and passing other arguments without an explicit keyword will result in an error or misinterpretation.\n",
            "  FutureWarning\n"
          ],
          "name": "stderr"
        },
        {
          "output_type": "execute_result",
          "data": {
            "text/plain": [
              "<matplotlib.axes._subplots.AxesSubplot at 0x7ff6f6e31e48>"
            ]
          },
          "metadata": {
            "tags": []
          },
          "execution_count": 18
        },
        {
          "output_type": "display_data",
          "data": {
            "image/png": "[encoded data removed]",
            "text/plain": [
              "<Figure size 432x288 with 1 Axes>"
            ]
          },
          "metadata": {
            "tags": [],
            "needs_background": "light"
          }
        }
      ]
    },
    {
      "cell_type": "code",
      "metadata": {
        "id": "T0pc-UIgaTl-",
        "outputId": "fb1ea33e-333d-4d66-8143-f1915de5e625",
        "colab": {
          "base_uri": "https://localhost:8080/",
          "height": 367
        }
      },
      "source": [
        "plt.figure(figsize=(10,5))\n",
        "plt.grid(True)\n",
        "plt.title(\"Scatter plot Open vs Close\")\n",
        "plt.xlabel(\"Open\")\n",
        "plt.ylabel(\"Close\")\n",
        "plt.scatter(df['Open'],df['Close'])"
      ],
      "execution_count": null,
      "outputs": [
        {
          "output_type": "execute_result",
          "data": {
            "text/plain": [
              "<matplotlib.collections.PathCollection at 0x7ff6f6f37860>"
            ]
          },
          "metadata": {
            "tags": []
          },
          "execution_count": 24
        },
        {
          "output_type": "display_data",
          "data": {
            "image/png": "[encoded data removed]",
            "text/plain": [
              "<Figure size 720x360 with 1 Axes>"
            ]
          },
          "metadata": {
            "tags": [],
            "needs_background": "light"
          }
        }
      ]
    },
    {
      "cell_type": "code",
      "metadata": {
        "id": "x2G3t4i8bnss",
        "outputId": "6c8f87b3-ad01-430b-9e2e-931c61ad5034",
        "colab": {
          "base_uri": "https://localhost:8080/",
          "height": 421
        }
      },
      "source": [
        "plt.figure(figsize=(8,5))\n",
        "plt.grid(True)\n",
        "plt.title(\"Histogram of High values\")\n",
        "plt.ylabel(\"Value\")\n",
        "plt.hist(df['High'])\n"
      ],
      "execution_count": null,
      "outputs": [
        {
          "output_type": "execute_result",
          "data": {
            "text/plain": [
              "(array([ 66., 303., 518.,  62., 113.,  42.,  57.,  20.,  41.,  15.]),\n",
              " array([100.98999786, 110.33599777, 119.68199768, 129.02799759,\n",
              "        138.3739975 , 147.71999741, 157.06599731, 166.41199722,\n",
              "        175.75799713, 185.10399704, 194.44999695]),\n",
              " <a list of 10 Patch objects>)"
            ]
          },
          "metadata": {
            "tags": []
          },
          "execution_count": 28
        },
        {
          "output_type": "display_data",
          "data": {
            "image/png": "[encoded data removed]",
            "text/plain": [
              "<Figure size 576x360 with 1 Axes>"
            ]
          },
          "metadata": {
            "tags": [],
            "needs_background": "light"
          }
        }
      ]
    },
    {
      "cell_type": "code",
      "metadata": {
        "id": "TH_EVcDtcWWn",
        "outputId": "be6fd9f7-24a8-4873-cb4e-e4ef92aee818",
        "colab": {
          "base_uri": "https://localhost:8080/",
          "height": 417
        }
      },
      "source": [
        "#BOX PLOT\n",
        "plt.title('Box Plot and Outliers')\n",
        "plt.boxplot(df['Volume'])\n"
      ],
      "execution_count": null,
      "outputs": [
        {
          "output_type": "execute_result",
          "data": {
            "text/plain": [
              "{'boxes': [<matplotlib.lines.Line2D at 0x7ff6f3f83080>],\n",
              " 'caps': [<matplotlib.lines.Line2D at 0x7ff6f3f83a90>,\n",
              "  <matplotlib.lines.Line2D at 0x7ff6f3f83e10>],\n",
              " 'fliers': [<matplotlib.lines.Line2D at 0x7ff6f3f8d550>],\n",
              " 'means': [],\n",
              " 'medians': [<matplotlib.lines.Line2D at 0x7ff6f3f8d1d0>],\n",
              " 'whiskers': [<matplotlib.lines.Line2D at 0x7ff6f3f83390>,\n",
              "  <matplotlib.lines.Line2D at 0x7ff6f3f83710>]}"
            ]
          },
          "metadata": {
            "tags": []
          },
          "execution_count": 44
        },
        {
          "output_type": "display_data",
          "data": {
            "image/png": "[encoded data removed]",
            "text/plain": [
              "<Figure size 432x288 with 1 Axes>"
            ]
          },
          "metadata": {
            "tags": [],
            "needs_background": "light"
          }
        }
      ]
    },
    {
      "cell_type": "code",
      "metadata": {
        "id": "yGyfqRIgc8na",
        "outputId": "d1296630-b8f4-4eb9-c70d-583633256b76",
        "colab": {
          "base_uri": "https://localhost:8080/",
          "height": 288
        }
      },
      "source": [
        "#AREA PLOT\n",
        "df.plot.area(y='Low')"
      ],
      "execution_count": null,
      "outputs": [
        {
          "output_type": "execute_result",
          "data": {
            "text/plain": [
              "<matplotlib.axes._subplots.AxesSubplot at 0x7ff6f3fdaba8>"
            ]
          },
          "metadata": {
            "tags": []
          },
          "execution_count": 43
        },
        {
          "output_type": "display_data",
          "data": {
            "image/png": "[encoded data removed]",
            "text/plain": [
              "<Figure size 432x288 with 1 Axes>"
            ]
          },
          "metadata": {
            "tags": [],
            "needs_background": "light"
          }
        }
      ]
    },
    {
      "cell_type": "code",
      "metadata": {
        "id": "IKF9Q_q2eqF2"
      },
      "source": [
        "#HEAT MAP\n",
        "data = np.asarray(df['High'],df['Close']).reshape(1237,1)"
      ],
      "execution_count": null,
      "outputs": []
    },
    {
      "cell_type": "code",
      "metadata": {
        "id": "5m3MRLnBfv5o",
        "outputId": "b10e665d-8436-431c-9b59-b5e4a893c6bf",
        "colab": {
          "base_uri": "https://localhost:8080/",
          "height": 286
        }
      },
      "source": [
        "sns.heatmap(data)"
      ],
      "execution_count": null,
      "outputs": [
        {
          "output_type": "execute_result",
          "data": {
            "text/plain": [
              "<matplotlib.axes._subplots.AxesSubplot at 0x7ff6ef883ba8>"
            ]
          },
          "metadata": {
            "tags": []
          },
          "execution_count": 75
        },
        {
          "output_type": "display_data",
          "data": {
            "image/png": "[encoded data removed]",
            "text/plain": [
              "<Figure size 432x288 with 2 Axes>"
            ]
          },
          "metadata": {
            "tags": [],
            "needs_background": "light"
          }
        }
      ]
    },
    {
      "cell_type": "code",
      "metadata": {
        "id": "5uXM9ZDEjz7O",
        "outputId": "88897d3a-bc17-46eb-f376-2a6807003bef",
        "colab": {
          "base_uri": "https://localhost:8080/",
          "height": 336
        }
      },
      "source": [
        "x = [151, 174, 138, 186, 128, 136, 179, 163, 152, 131]\n",
        "y = [63, 81, 56, 91, 47, 57, 76, 72, 62, 48]\n",
        "sns.regplot(x,y,'Height & Weight Regression')"
      ],
      "execution_count": 9,
      "outputs": [
        {
          "output_type": "stream",
          "text": [
            "/usr/local/lib/python3.6/dist-packages/seaborn/_decorators.py:43: FutureWarning: Pass the following variables as keyword args: x, y, data. From version 0.12, the only valid positional argument will be `data`, and passing other arguments without an explicit keyword will result in an error or misinterpretation.\n",
            "  FutureWarning\n"
          ],
          "name": "stderr"
        },
        {
          "output_type": "execute_result",
          "data": {
            "text/plain": [
              "<matplotlib.axes._subplots.AxesSubplot at 0x7feac5360dd8>"
            ]
          },
          "metadata": {
            "tags": []
          },
          "execution_count": 9
        },
        {
          "output_type": "display_data",
          "data": {
            "image/png": "[encoded data removed]",
            "text/plain": [
              "<Figure size 432x288 with 1 Axes>"
            ]
          },
          "metadata": {
            "tags": [],
            "needs_background": "light"
          }
        }
      ]
    },
    {
      "cell_type": "markdown",
      "metadata": {
        "id": "RrNp5OuMrs7q"
      },
      "source": [
        "**Conclusion**: (Write in own words) : Thus all the graphic and plotting libraries help us to visually find relations between variables and how they affect our outcomes. Graphical approach helps understand better than words can do as we are visual animals and seeing the trends or heat maps or regression plots help us assess the situation better and perform better analytics.\n",
        "\n"
      ]
    },
    {
      "cell_type": "code",
      "metadata": {
        "id": "rdl6HEOzgzUJ"
      },
      "source": [
        "#PART - B Matrixes"
      ],
      "execution_count": 1,
      "outputs": []
    },
    {
      "cell_type": "code",
      "metadata": {
        "id": "etzSuv0bp681",
        "outputId": "4bd4b193-bac7-4c54-d2a3-aeb76fd28590",
        "colab": {
          "base_uri": "https://localhost:8080/"
        }
      },
      "source": [
        "#create vector and matrix\n",
        "vector = np.array([10, 20, 30, 40, 50, 60])\n",
        "print(\"Original Vector:\", vector)\n",
        "\n",
        "matrix = np.array([[11, 22, 33],[44, 55, 66],[77, 88, 99]])\n",
        "print(\"Original Matrix: \", matrix)"
      ],
      "execution_count": 13,
      "outputs": [
        {
          "output_type": "stream",
          "text": [
            "Original Vector: [10 20 30 40 50 60]\n",
            "Original Matrix:  [[11 22 33]\n",
            " [44 55 66]\n",
            " [77 88 99]]\n"
          ],
          "name": "stdout"
        }
      ]
    },
    {
      "cell_type": "code",
      "metadata": {
        "id": "nkVMK_-esH2w",
        "outputId": "2e570350-4f26-4971-8d95-89a65834e69e",
        "colab": {
          "base_uri": "https://localhost:8080/"
        }
      },
      "source": [
        "#extract elements from martix\n",
        "A = [[1, 0, 0, 6, 1],\n",
        "    [8, 2, 1, 1, 5],\n",
        "    [1, 1, 0, 0, 4],\n",
        "    [3, 8, 7, 1, 2],\n",
        "    [3, 9, 1, 5, 5]]\n",
        "\n",
        "b = [0, 1, 2, 3, 4]\n",
        "\n",
        "result = [A[i][b_i] for i, b_i in enumerate(b)]\n",
        "result"
      ],
      "execution_count": 15,
      "outputs": [
        {
          "output_type": "execute_result",
          "data": {
            "text/plain": [
              "[1, 2, 0, 1, 5]"
            ]
          },
          "metadata": {
            "tags": []
          },
          "execution_count": 15
        }
      ]
    },
    {
      "cell_type": "code",
      "metadata": {
        "id": "e8d4XoWUshbD",
        "outputId": "defbf300-4626-4101-d916-da1890543085",
        "colab": {
          "base_uri": "https://localhost:8080/"
        }
      },
      "source": [
        "# Two matrices are initialized by value\n",
        "import numpy\n",
        "x = numpy.array([[1, 2], [4, 5]])\n",
        "y = numpy.array([[7, 8], [9, 10]])\n",
        "#  add()is used to add matrices\n",
        "print (\"Addition of two matrices: \")\n",
        "print (numpy.add(x,y))\n",
        "# subtract()is used to subtract matrices\n",
        "print (\"Subtraction of two matrices : \")\n",
        "print (numpy.subtract(x,y))\n",
        "# divide()is used to divide matrices\n",
        "print (\"Matrix Division : \")\n",
        "print (numpy.divide(x,y))\n",
        "print (\"Multiplication of two matrices: \")\n",
        "print (numpy.multiply(x,y))\n",
        "print (\"The product of two matrices : \")\n",
        "print (numpy.dot(x,y))\n",
        "print (\"square root is : \")\n",
        "print (numpy.sqrt(x))\n",
        "print (\"The summation of elements : \")\n",
        "print (numpy.sum(y))\n",
        "print (\"The column wise summation  : \")\n",
        "print (numpy.sum(y,axis=0))\n",
        "print (\"The row wise summation: \")\n",
        "print (numpy.sum(y,axis=1))\n",
        "# using \"T\" to transpose the matrix\n",
        "print (\"Matrix transposition : \")\n",
        "print (x.T)"
      ],
      "execution_count": 17,
      "outputs": [
        {
          "output_type": "stream",
          "text": [
            "Addition of two matrices: \n",
            "[[ 8 10]\n",
            " [13 15]]\n",
            "Subtraction of two matrices : \n",
            "[[-6 -6]\n",
            " [-5 -5]]\n",
            "Matrix Division : \n",
            "[[0.14285714 0.25      ]\n",
            " [0.44444444 0.5       ]]\n",
            "Multiplication of two matrices: \n",
            "[[ 7 16]\n",
            " [36 50]]\n",
            "The product of two matrices : \n",
            "[[25 28]\n",
            " [73 82]]\n",
            "square root is : \n",
            "[[1.         1.41421356]\n",
            " [2.         2.23606798]]\n",
            "The summation of elements : \n",
            "34\n",
            "The column wise summation  : \n",
            "[16 18]\n",
            "The row wise summation: \n",
            "[15 19]\n",
            "Matrix transposition : \n",
            "[[1 4]\n",
            " [2 5]]\n"
          ],
          "name": "stdout"
        }
      ]
    },
    {
      "cell_type": "code",
      "metadata": {
        "id": "PnvdqB0-tsYu",
        "outputId": "255bd73a-3be0-4ed0-f39f-c796f16c323a",
        "colab": {
          "base_uri": "https://localhost:8080/"
        }
      },
      "source": [
        " import numpy as np\n",
        "from numpy import linalg as LA\n",
        "A = np.array([[1,2,3],[3,2,1],[1,0,-1]])\n",
        "w, v = LA.eig(A)\n",
        "print(w)"
      ],
      "execution_count": 21,
      "outputs": [
        {
          "output_type": "stream",
          "text": [
            "[ 4.31662479e+00 -2.31662479e+00  1.93041509e-17]\n"
          ],
          "name": "stdout"
        }
      ]
    },
    {
      "cell_type": "code",
      "metadata": {
        "id": "UpIR0_g3t0UI",
        "outputId": "dd87dbef-7f0a-44e4-9ad8-a42b249788b7",
        "colab": {
          "base_uri": "https://localhost:8080/"
        }
      },
      "source": [
        "print(v)"
      ],
      "execution_count": 20,
      "outputs": [
        {
          "output_type": "stream",
          "text": [
            "[[ 0.58428153  0.73595785  0.40824829]\n",
            " [ 0.80407569 -0.38198836 -0.81649658]\n",
            " [ 0.10989708 -0.55897311  0.40824829]]\n"
          ],
          "name": "stdout"
        }
      ]
    },
    {
      "cell_type": "code",
      "metadata": {
        "id": "xsw5-4fXt4Di"
      },
      "source": [
        "#Just to be clear about what is happening here, let's check the eigenvector/eigenvalue condition for the second eigenvalue and eigenvector.\n",
        "#A u = \\lambda u    \n",
        "#where $u$ is the eigenvector and $\\lambda$ is its eigenvalue. So we multiply the\n",
        "# eigenvector v[:,1] by A and check that it is the same as multiplying the same eigenvector by its eigenvalue w[1]."
      ],
      "execution_count": 24,
      "outputs": []
    },
    {
      "cell_type": "code",
      "metadata": {
        "id": "rMfBLMKGuQVX",
        "outputId": "0b7af928-450f-4f05-c3cc-52caece97fb6",
        "colab": {
          "base_uri": "https://localhost:8080/"
        }
      },
      "source": [
        "u = v[:,1]\n",
        "print(u)\n",
        "lam = w[1]\n",
        "print(lam)\n",
        "print(np.dot(A,u))\n",
        "print(lam*u)"
      ],
      "execution_count": 25,
      "outputs": [
        {
          "output_type": "stream",
          "text": [
            "[ 0.73595785 -0.38198836 -0.55897311]\n",
            "-2.3166247903554\n",
            "[-1.7049382   0.88492371  1.29493096]\n",
            "[-1.7049382   0.88492371  1.29493096]\n"
          ],
          "name": "stdout"
        }
      ]
    },
    {
      "cell_type": "markdown",
      "metadata": {
        "id": "MoMFxRxtxtQL"
      },
      "source": [
        "**Conclusion**: (Write in own words) : Thus matrix multiplication plays a very important role in many disciplines because of the fact that it is considered as the main tool for many other computations in different areas.By leaning numpy and its functions we can actively learn to do matrix and vector calculations useful for studies.Vector product and physics working can be solved using python and R.\n"
      ]
    }
  ]
}