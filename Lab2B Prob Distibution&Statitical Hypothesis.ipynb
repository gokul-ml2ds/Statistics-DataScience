{
  "nbformat": 4,
  "nbformat_minor": 0,
  "metadata": {
    "colab": {
      "name": "Gokul_STC_19/10/20",
      "provenance": [],
      "collapsed_sections": []
    },
    "kernelspec": {
      "name": "python3",
      "display_name": "Python 3"
    }
  },
  "cells": [
    {
      "cell_type": "code",
      "metadata": {
        "id": "mKyvZElmAJeA"
      },
      "source": [
        "#Gokul Nair \n",
        "#2018120039\n",
        "#Lab 2B \n",
        "#19-10-2020"
      ],
      "execution_count": null,
      "outputs": []
    },
    {
      "cell_type": "code",
      "metadata": {
        "id": "RQvKUEETA_So"
      },
      "source": [
        "from scipy.stats import binom"
      ],
      "execution_count": null,
      "outputs": []
    },
    {
      "cell_type": "code",
      "metadata": {
        "id": "TJLAfdP9Cll9"
      },
      "source": [
        "#Same questions as last lab on 19th Oct but with python and scipy"
      ],
      "execution_count": 6,
      "outputs": []
    },
    {
      "cell_type": "code",
      "metadata": {
        "id": "SVkRFawtBKyl",
        "outputId": "d2c61c1a-d535-4194-8f6e-ebf3d9fd2b45",
        "colab": {
          "base_uri": "https://localhost:8080/",
          "height": 34
        }
      },
      "source": [
        "binom.pmf(k=4,n=12,p=0.2)"
      ],
      "execution_count": 3,
      "outputs": [
        {
          "output_type": "execute_result",
          "data": {
            "text/plain": [
              "0.1328755507199998"
            ]
          },
          "metadata": {
            "tags": []
          },
          "execution_count": 3
        }
      ]
    },
    {
      "cell_type": "code",
      "metadata": {
        "id": "AHZ7WgjhCNAn",
        "outputId": "b543fbbb-dce1-4eb4-ebf6-b47a6f181e66",
        "colab": {
          "base_uri": "https://localhost:8080/",
          "height": 34
        }
      },
      "source": [
        "binom.cdf(k=4,n=12,p=0.2)"
      ],
      "execution_count": 5,
      "outputs": [
        {
          "output_type": "execute_result",
          "data": {
            "text/plain": [
              "0.92744450048"
            ]
          },
          "metadata": {
            "tags": []
          },
          "execution_count": 5
        }
      ]
    },
    {
      "cell_type": "code",
      "metadata": {
        "id": "fgbdNkpvCkrE"
      },
      "source": [
        "data = binom.rvs(n=12,p=0.2,size=100000)"
      ],
      "execution_count": 17,
      "outputs": []
    },
    {
      "cell_type": "code",
      "metadata": {
        "id": "sf0Tp97LDTFw"
      },
      "source": [
        "import matplotlib.pyplot as plt\n",
        "import seaborn as sns"
      ],
      "execution_count": 13,
      "outputs": []
    },
    {
      "cell_type": "code",
      "metadata": {
        "id": "UorpRaZLEGJA",
        "outputId": "65a13592-8a9a-4870-9c5d-63865b271896",
        "colab": {
          "base_uri": "https://localhost:8080/",
          "height": 369
        }
      },
      "source": [
        "ax = sns.displot(data)"
      ],
      "execution_count": 18,
      "outputs": [
        {
          "output_type": "display_data",
          "data": {
            "image/png": "[encoded data removed]",
            "text/plain": [
              "<Figure size 360x360 with 1 Axes>"
            ]
          },
          "metadata": {
            "tags": [],
            "needs_background": "light"
          }
        }
      ]
    },
    {
      "cell_type": "code",
      "metadata": {
        "id": "QZPz07CQFXme"
      },
      "source": [
        "from scipy.stats import poisson"
      ],
      "execution_count": 24,
      "outputs": []
    },
    {
      "cell_type": "code",
      "metadata": {
        "id": "JU0fuHrZK-4k",
        "outputId": "ca369395-61b5-4c02-8374-22d584706b47",
        "colab": {
          "base_uri": "https://localhost:8080/",
          "height": 357
        }
      },
      "source": [
        "help(poisson.pmf)"
      ],
      "execution_count": 26,
      "outputs": [
        {
          "output_type": "stream",
          "text": [
            "Help on method pmf in module scipy.stats._distn_infrastructure:\n",
            "\n",
            "pmf(k, *args, **kwds) method of scipy.stats._discrete_distns.poisson_gen instance\n",
            "    Probability mass function at k of the given RV.\n",
            "    \n",
            "    Parameters\n",
            "    ----------\n",
            "    k : array_like\n",
            "        Quantiles.\n",
            "    arg1, arg2, arg3,... : array_like\n",
            "        The shape parameter(s) for the distribution (see docstring of the\n",
            "        instance object for more information)\n",
            "    loc : array_like, optional\n",
            "        Location parameter (default=0).\n",
            "    \n",
            "    Returns\n",
            "    -------\n",
            "    pmf : array_like\n",
            "        Probability mass function evaluated at k\n",
            "\n"
          ],
          "name": "stdout"
        }
      ]
    },
    {
      "cell_type": "code",
      "metadata": {
        "id": "P0h5ZbxiFxXs",
        "outputId": "37a53d01-7e07-4631-c753-efb57fde1f06",
        "colab": {
          "base_uri": "https://localhost:8080/",
          "height": 34
        }
      },
      "source": [
        "1-poisson.cdf(16,12)"
      ],
      "execution_count": 79,
      "outputs": [
        {
          "output_type": "execute_result",
          "data": {
            "text/plain": [
              "0.10129100743983788"
            ]
          },
          "metadata": {
            "tags": []
          },
          "execution_count": 79
        }
      ]
    },
    {
      "cell_type": "code",
      "metadata": {
        "id": "p3k_9CtZM7Ga"
      },
      "source": [
        "from scipy.stats import uniform"
      ],
      "execution_count": 36,
      "outputs": []
    },
    {
      "cell_type": "code",
      "metadata": {
        "id": "pycfvKxZM_2N",
        "outputId": "7cdd143e-cd77-4e14-e4a6-1fd1f09f36c9",
        "colab": {
          "base_uri": "https://localhost:8080/",
          "height": 51
        }
      },
      "source": [
        "uniform.rvs(loc =1,scale = 2,size =10)"
      ],
      "execution_count": 40,
      "outputs": [
        {
          "output_type": "execute_result",
          "data": {
            "text/plain": [
              "array([1.57659777, 1.14411577, 2.54248947, 2.00796117, 1.27140363,\n",
              "       2.57721953, 1.29958375, 1.03084129, 1.21763829, 2.81000263])"
            ]
          },
          "metadata": {
            "tags": []
          },
          "execution_count": 40
        }
      ]
    },
    {
      "cell_type": "code",
      "metadata": {
        "id": "cv4jhL6iN7iz"
      },
      "source": [
        "from scipy.stats import expon\n",
        "import numpy as np"
      ],
      "execution_count": 54,
      "outputs": []
    },
    {
      "cell_type": "code",
      "metadata": {
        "id": "EhW39bA2OA1E",
        "outputId": "d2d3f4d3-8588-4ccd-ea6f-d40c0410f61f",
        "colab": {
          "base_uri": "https://localhost:8080/",
          "height": 34
        }
      },
      "source": [
        "\n",
        "expon.pdf(x=2,scale=1/3)"
      ],
      "execution_count": 98,
      "outputs": [
        {
          "output_type": "execute_result",
          "data": {
            "text/plain": [
              "0.0074362565299990755"
            ]
          },
          "metadata": {
            "tags": []
          },
          "execution_count": 98
        }
      ]
    },
    {
      "cell_type": "code",
      "metadata": {
        "id": "s2LuaHkWRtBD"
      },
      "source": [
        "from scipy.stats import norm"
      ],
      "execution_count": 66,
      "outputs": []
    },
    {
      "cell_type": "code",
      "metadata": {
        "id": "87Wme0XGSN8N",
        "outputId": "faa39a5c-322a-4cd0-a985-5800bbcd0865",
        "colab": {
          "base_uri": "https://localhost:8080/",
          "height": 34
        }
      },
      "source": [
        "norm.cdf(84,loc=72,scale =15.2)"
      ],
      "execution_count": 80,
      "outputs": [
        {
          "output_type": "execute_result",
          "data": {
            "text/plain": [
              "0.7850823976887276"
            ]
          },
          "metadata": {
            "tags": []
          },
          "execution_count": 80
        }
      ]
    },
    {
      "cell_type": "code",
      "metadata": {
        "id": "4ccHV5HeUCYG"
      },
      "source": [
        "from scipy.stats import chi2"
      ],
      "execution_count": 81,
      "outputs": []
    },
    {
      "cell_type": "code",
      "metadata": {
        "id": "bx4xgBr6UYwu",
        "outputId": "78017f34-c23e-4d0c-e7c8-136497758de4",
        "colab": {
          "base_uri": "https://localhost:8080/",
          "height": 34
        }
      },
      "source": [
        "chi2.ppf(0.95,df=7)"
      ],
      "execution_count": 83,
      "outputs": [
        {
          "output_type": "execute_result",
          "data": {
            "text/plain": [
              "14.067140449340169"
            ]
          },
          "metadata": {
            "tags": []
          },
          "execution_count": 83
        }
      ]
    },
    {
      "cell_type": "code",
      "metadata": {
        "id": "zm8EOVe6V_Dx"
      },
      "source": [
        "from scipy.stats import t"
      ],
      "execution_count": 84,
      "outputs": []
    },
    {
      "cell_type": "code",
      "metadata": {
        "id": "xYznKZIXWR2x",
        "outputId": "64340dc9-694a-457f-e9ba-1e3b2e39af1d",
        "colab": {
          "base_uri": "https://localhost:8080/",
          "height": 34
        }
      },
      "source": [
        "t.ppf((0.025,0.975),df=5)"
      ],
      "execution_count": 86,
      "outputs": [
        {
          "output_type": "execute_result",
          "data": {
            "text/plain": [
              "array([-2.57058184,  2.57058184])"
            ]
          },
          "metadata": {
            "tags": []
          },
          "execution_count": 86
        }
      ]
    },
    {
      "cell_type": "code",
      "metadata": {
        "id": "lDWNLrH5Wgpm"
      },
      "source": [
        "from scipy.stats import f"
      ],
      "execution_count": 87,
      "outputs": []
    }
  ]
}